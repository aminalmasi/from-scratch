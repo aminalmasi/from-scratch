{
 "cells": [
  {
   "cell_type": "code",
   "execution_count": null,
   "metadata": {},
   "outputs": [],
   "source": [
    "import numpy as np\n",
    "import pandas as pd\n",
    "%cd '/home/amindo/Desktop/Question 3'"
   ]
  },
  {
   "cell_type": "code",
   "execution_count": null,
   "metadata": {},
   "outputs": [],
   "source": [
    "df = pd.read_csv('mnist_train.csv')\n",
    "df_test = pd.read_csv('mnist_test.csv')"
   ]
  },
  {
   "cell_type": "markdown",
   "metadata": {},
   "source": [
    "aval az hame data ro scale mikonim"
   ]
  },
  {
   "cell_type": "code",
   "execution_count": null,
   "metadata": {},
   "outputs": [],
   "source": [
    "#be df yek soton 1 baray mohase rahat tar b ezafe mikonim\n",
    "def add_1_minmax_scaling(df,df_test):\n",
    "    label=df['label']\n",
    "    label_test = df_test['label']\n",
    "    df.drop('label',axis = 1,inplace = True)\n",
    "    df_test.drop('label',axis = 1,inplace = True)\n",
    "    m = df.shape[0]\n",
    "    m_test = df_test.shape[0]\n",
    "    soton_1 = [1]*df.shape[0]\n",
    "    soton_1_test = [1]*df.shape[0]\n",
    "    columns =df.columns\n",
    "    df = df.to_numpy()\n",
    "    df_test = df_test.to_numpy()\n",
    "\n",
    "    df1 = df.min(axis = 0).reshape(1,784)\n",
    "    df1_test = df_test.min(axis = 0).reshape(1,784)\n",
    "\n",
    "    df_min = np.ones((m,1)).dot(df1)\n",
    "    df_test_min = np.ones((m,1)).dot(df1_test)\n",
    "    \n",
    "    df1 = df.max(axis  =0).reshape(1,784)\n",
    "    df1_test = df_test.max(axis  =0).reshape(1,784)\n",
    "    \n",
    "    df_max = np.ones((m,1)).dot(df1)\n",
    "    df_max_test = np.ones((m,1)).dot(df1_test)\n",
    "    df = (df-df_min)/(df_max-df_min)\n",
    "    df_test = (df-df_test_min)/(df_max_test-df_test_min)\n",
    "    df = pd.DataFrame(df, columns=columns)\n",
    "    df_test = pd.DataFrame(df_test, columns=columns)\n",
    "    df  = df.fillna(0)\n",
    "    df_test  = df_test.fillna(0)\n",
    "\n",
    "    df['soton1'] = soton_1\n",
    "    df_test['soton1'] = soton_1_test\n",
    "    df['label'] = label\n",
    "    df_test['label'] = label_test\n",
    "    return(df,df_test)\n",
    "df,df_test = add_1_minmax_scaling(df,df_test)"
   ]
  },
  {
   "cell_type": "code",
   "execution_count": null,
   "metadata": {},
   "outputs": [],
   "source": [
    "#%store df\n",
    "#%store df_test"
   ]
  },
  {
   "cell_type": "code",
   "execution_count": 1,
   "metadata": {},
   "outputs": [],
   "source": [
    "#%store -r df\n",
    "#%store -r df_test"
   ]
  },
  {
   "cell_type": "markdown",
   "metadata": {},
   "source": [
    "cross validation bar hasb class 3 ba algorithm stochastic gradient descent"
   ]
  },
  {
   "cell_type": "code",
   "execution_count": 2,
   "metadata": {},
   "outputs": [
    {
     "name": "stderr",
     "output_type": "stream",
     "text": [
      "/home/amindo/anaconda3/lib/python3.7/site-packages/pandas/core/indexing.py:190: SettingWithCopyWarning: \n",
      "A value is trying to be set on a copy of a slice from a DataFrame\n",
      "\n",
      "See the caveats in the documentation: http://pandas.pydata.org/pandas-docs/stable/indexing.html#indexing-view-versus-copy\n",
      "  self._setitem_with_indexer(indexer, value)\n"
     ]
    }
   ],
   "source": [
    "df.label.loc[(df.label != 3)] = -1\n",
    "df.label.loc[(df.label == 3)] = 1\n",
    "df_test.label.loc[(df_test.label != 3)] = -1\n",
    "df_test.label.loc[(df_test.label == 3)] = 1"
   ]
  },
  {
   "cell_type": "code",
   "execution_count": null,
   "metadata": {},
   "outputs": [],
   "source": [
    "def error_cross(df,w):\n",
    "    import pandas as pd \n",
    "    import numpy as np\n",
    "    df2 = df.copy()\n",
    "    m = df2.shape[0]\n",
    "    n=df2.shape[1]\n",
    "    df2['new'] = df2.iloc[:m,:n-1].dot(w)\n",
    "    df2['predict'] = 0\n",
    "    df2.predict.loc[(df2.new >= 0)] =1\n",
    "    df2.predict.loc[(df2.new < 0)] =-1\n",
    "    df2['accuracy'] = df2['label']- df2['predict']    \n",
    "    k = ((df2['accuracy']==0).sum(axis = 0))/m\n",
    "    return(k)"
   ]
  },
  {
   "cell_type": "code",
   "execution_count": 30,
   "metadata": {},
   "outputs": [],
   "source": [
    "def cost_function_batch(df,w):\n",
    "    df['loss'] = df.apply(lambda x:max(0,1-x['label']*(x.iloc[ :785].dot(w))),axis  = 1)\n",
    "    return(df)"
   ]
  },
  {
   "cell_type": "code",
   "execution_count": 31,
   "metadata": {},
   "outputs": [],
   "source": [
    "def batch(df,w,landa,lear_rate,epoch):\n",
    "    df['new_label'] = df['label'].copy()\n",
    "    import numpy as np\n",
    "    m=df.shape[0]\n",
    "    n = df.shape[1]\n",
    "    for i in range(epoch):\n",
    "        df = cost_function_batch(df,w)\n",
    "        df['new_label'] = df['label'].copy()\n",
    "        df['new_label'].loc[(df.loss == 0 )] =0\n",
    "        df2= df.copy()\n",
    "        df2= df.to_numpy()\n",
    "        w = w-lear_rate*(landa*w + (-1/m)*((np.sum(np.multiply(df2,df2[:,n:n+1]),axis = 0))[:785].reshape(785,1)))\n",
    "        df.drop(['loss','new_label'],axis = 1,inplace =True)\n",
    "        print(i,landa)\n",
    "    return(w)  "
   ]
  },
  {
   "cell_type": "code",
   "execution_count": 32,
   "metadata": {},
   "outputs": [],
   "source": [
    "def k_fold_cross_val(df,k,landa):\n",
    "    m = df.shape[0]\n",
    "    s = int(m/k)\n",
    "    accuracy_1 = []\n",
    "    n = df.shape[1]\n",
    "    for i in range(k):\n",
    "        df = df.sample(frac = 1)\n",
    "        df =df.reset_index()\n",
    "        df.drop('index',axis = 1,inplace = True)\n",
    "        w1 = np.random.normal(0,0.01,n-1).reshape(785,1)\n",
    "        if i == k-1:\n",
    "            df_test_1 = df.iloc[s*i:m,:]\n",
    "        else:\n",
    "            df_test_1 = df.iloc[s*i:s*(i+1),:]\n",
    "\n",
    "        if i ==k-1:\n",
    "            list1 =list(range(s*i,m))\n",
    "        else:\n",
    "            list1 =list(range(s*i,s*(i+1)))\n",
    "        df_train = df.drop(index = list1)\n",
    "        #y_test = Y_train[s*i:s*(i+1)]\n",
    "        #y_train =Y_train.drop([list1],axis = 0)\n",
    "        w = batch(df_train,w1,landa,0.01,15)\n",
    "        accuracy_1.append(error_cross(df_test_1,w))\n",
    "        #print(accuracy_1)\n",
    "    return(sum(accuracy_1)/k)    "
   ]
  },
  {
   "cell_type": "code",
   "execution_count": 33,
   "metadata": {},
   "outputs": [],
   "source": [
    "import numpy as np\n",
    "import pandas as pd"
   ]
  },
  {
   "cell_type": "code",
   "execution_count": 36,
   "metadata": {},
   "outputs": [
    {
     "name": "stdout",
     "output_type": "stream",
     "text": [
      "for landa = 1 mean accuracy is 0.8880000000000001\n",
      "for landa = 0.01 mean accuracy is 0.8980000000000001\n",
      "for landa = 0.0001 mean accuracy is 0.8933333333333334\n",
      "for landa = 1e-06 mean accuracy is 0.8955\n",
      "for landa = 1e-16 mean accuracy is 0.8936\n",
      "for landa = 0 mean accuracy is 0.895\n"
     ]
    }
   ],
   "source": [
    "landa_list = [1,10**-2,10**-4,10**-6,10**-8]\n",
    "list2 = []\n",
    "for i in landa_list:\n",
    "    list2.append(k_fold_cross_val(df,10,i))\n",
    "    print(f'for landa = {i} mean accuracy is {sum(list2)/len(list2)}')"
   ]
  },
  {
   "cell_type": "code",
   "execution_count": null,
   "metadata": {},
   "outputs": [],
   "source": []
  },
  {
   "cell_type": "markdown",
   "metadata": {},
   "source": [
    "hal ebteda batch gradient descent ro train mikonim ro kol data\n",
    "baray sadegi mohasebe meghdar loss ro dar epoch hai 2,5,10,20,25 va 30 faghat mohasebe mikonim"
   ]
  },
  {
   "cell_type": "code",
   "execution_count": null,
   "metadata": {},
   "outputs": [],
   "source": [
    "def cost_function_batch(df,w):\n",
    "    df['loss'] = df.apply(lambda x:max(0,1-x['label']*(x.iloc[ :785].dot(w))),axis  = 1)\n",
    "    return(df)"
   ]
  },
  {
   "cell_type": "code",
   "execution_count": null,
   "metadata": {},
   "outputs": [],
   "source": [
    "def batch(df,w,landa,lear_rate,epoch):\n",
    "    df['new_label'] = df['label'].copy()\n",
    "    import numpy as np\n",
    "    t = [0]*2\n",
    "    m=df.shape[0]\n",
    "    n = df.shape[1]\n",
    "    z = np.zeros((785,6))\n",
    "    for i in range(epoch):\n",
    "        df = cost_function_batch(df,w)\n",
    "        df['new_label'] = df['label'].copy()\n",
    "        df['new_label'].loc[(df.loss == 0 )] =0\n",
    "        df2= df.copy()\n",
    "        df2= df.to_numpy()\n",
    "        w = w-lear_rate*(landa*w + (-1/m)*((np.sum(np.multiply(df2,df2[:,n:n+1]),axis = 0))[:785].reshape(785,1)))\n",
    "        df.drop(['loss','new_label'],axis = 1,inplace =True)\n",
    "        if i+1 == 2:\n",
    "            z[:,0:1] = w\n",
    "        if i+1 ==5:\n",
    "            z[:,1:2] = w\n",
    "        if i+1 ==10:\n",
    "            z[:,2:3] = w\n",
    "        if i+1 ==20:\n",
    "            z[:,3:4] = w\n",
    "        if i+1 ==25:\n",
    "            z[:,4:5] = w\n",
    "        if i+1 ==30:\n",
    "            z[:,5:6] = w\n",
    "    t[0] = w \n",
    "    t[1] = z\n",
    "    return(t)  "
   ]
  },
  {
   "cell_type": "code",
   "execution_count": null,
   "metadata": {},
   "outputs": [],
   "source": [
    "def one_vs_all(df):\n",
    "    import numpy as np\n",
    "    import pandas as pd\n",
    "    m = df.shape[0]\n",
    "    n = df.shape[1]\n",
    "    W = np.zeros([n-1,10])\n",
    "    epoch_1 = []\n",
    "    c= [0]*2\n",
    "    for i in range(10):\n",
    "    \n",
    "        w = np.random.normal(0,0.01,n-1)\n",
    "        w = pd.DataFrame(w)\n",
    "        w = w.to_numpy()\n",
    "        df2 = df.copy()\n",
    "        df2.label.loc[(df2.label == i)] = 1\n",
    "        df2.label.loc[(df2.label != i)] = -1\n",
    "        a = batch(df2,w,10**-4,0.01,30)\n",
    "        W[0:,i:i+1] =a[0]\n",
    "        epoch_1.append(a[1])\n",
    "        print('a')\n",
    "    c=[W,epoch_1]\n",
    "    return(c)"
   ]
  },
  {
   "cell_type": "code",
   "execution_count": null,
   "metadata": {},
   "outputs": [],
   "source": [
    "c=one_vs_all(df)\n",
    "W = c[0]\n",
    "epoch_1_batch = c[1]"
   ]
  },
  {
   "cell_type": "code",
   "execution_count": null,
   "metadata": {},
   "outputs": [],
   "source": [
    "%store df\n",
    "%store W_batch\n",
    "%store epoch_1_batch"
   ]
  },
  {
   "cell_type": "code",
   "execution_count": null,
   "metadata": {},
   "outputs": [],
   "source": [
    "%store -r df\n",
    "%store -r W_batch\n",
    "%store -r epoch_1_batch"
   ]
  },
  {
   "cell_type": "code",
   "execution_count": null,
   "metadata": {},
   "outputs": [],
   "source": [
    "def error(df,W_batch):\n",
    "    import pandas as pd \n",
    "    import numpy as np\n",
    "    k = [0]*2\n",
    "    df2 = df.copy()\n",
    "    m = df2.shape[0]\n",
    "    n=df2.shape[1]\n",
    "    df3 = df2.iloc[:m,:n-1].dot(W_batch)    \n",
    "    df2['predict'] = df3.idxmax(axis =1)\n",
    "    df2['accuracy'] = df2['label']- df2['predict']\n",
    "    k[0] = ((df2['accuracy']==0).sum(axis = 0))/m\n",
    "    k[1] = df2['predict']\n",
    "    return(k)"
   ]
  },
  {
   "cell_type": "markdown",
   "metadata": {},
   "source": [
    "accurasy ro baray df_test mohasebe mikonim\n"
   ]
  },
  {
   "cell_type": "code",
   "execution_count": null,
   "metadata": {},
   "outputs": [],
   "source": [
    "accurasy_in_test = error(df_test,W_batch)[0]"
   ]
  },
  {
   "cell_type": "code",
   "execution_count": null,
   "metadata": {},
   "outputs": [],
   "source": [
    "k =error(df,W)\n",
    "error = k[0]\n",
    "predict = k[1]"
   ]
  },
  {
   "cell_type": "code",
   "execution_count": null,
   "metadata": {},
   "outputs": [],
   "source": [
    "def loss_function(df,W,predict,landa,epoch_1):\n",
    "    import numpy as np\n",
    "    m = df.shape[0]\n",
    "    cos_fun_epoch =  []\n",
    "    label = df['label']\n",
    "    w = np.ones((785,1))\n",
    "    for i in range(6):\n",
    "            cost = 0\n",
    "        for j in range(predict.shape[0]):\n",
    "            w =epoch_1[predict[j]][:,i:i+1]\n",
    "            if label[j]==predict[j]:\n",
    "                cost = cost + (1/m)*(landa*(np.transpose(w).dot(w)[0,0]) + max(0,1-(np.sign(df.iloc[j:j+1,:785].dot(w).iloc[0,0]))*(df.iloc[j:j+1,:785].dot(w)).iloc[0,0]))\n",
    "            else :\n",
    "                cost = cost + (1/m)*(landa*(np.transpose(w).dot(w)[0,0]) + max(0,1+(np.sign(df.iloc[j:j+1,:785].dot(w).iloc[0,0]))*(df.iloc[j:j+1,:785].dot(w)).iloc[0,0]))\n",
    "        cos_fun_epoch.append(cost)\n",
    "    return(cos_fun_epoch)"
   ]
  },
  {
   "cell_type": "code",
   "execution_count": null,
   "metadata": {},
   "outputs": [],
   "source": [
    "cos_fun_batch_epoch = loss_function(df,W,predict,10**-4,epoch_1)"
   ]
  },
  {
   "cell_type": "code",
   "execution_count": null,
   "metadata": {},
   "outputs": [],
   "source": [
    "%store df\n",
    "%store W"
   ]
  },
  {
   "cell_type": "code",
   "execution_count": null,
   "metadata": {},
   "outputs": [],
   "source": [
    "%store -r df\n",
    "%store -r W"
   ]
  },
  {
   "cell_type": "code",
   "execution_count": null,
   "metadata": {},
   "outputs": [],
   "source": [
    "def loss_function(df,W,predict,landa,epoch_1):\n",
    "    import numpy as np\n",
    "    m = df.shape[0]\n",
    "    cos_fun_epoch =  []\n",
    "    label = df['label']\n",
    "    w = np.ones((785,1))\n",
    "    for i in range(6):\n",
    "        cost = 0\n",
    "        for j in range(predict.shape[0]):\n",
    "            w =epoch_1[predict[j]][:,i:i+1]\n",
    "            if label[j]==predict[j]:\n",
    "                cost = cost + (1/m)*(landa*(np.transpose(w).dot(w)[0,0]) + max(0,1-(np.sign(df.iloc[j:j+1,:785].dot(w).iloc[0,0]))*(df.iloc[j:j+1,:785].dot(w)).iloc[0,0]))\n",
    "            else :\n",
    "                cost = cost + (1/m)*(landa*(np.transpose(w).dot(w)[0,0]) + max(0,1+(np.sign(df.iloc[j:j+1,:785].dot(w).iloc[0,0]))*(df.iloc[j:j+1,:785].dot(w)).iloc[0,0]))\n",
    "        cos_fun_epoch.append(cost)\n",
    "    return(cos_fun_epoch)"
   ]
  },
  {
   "cell_type": "code",
   "execution_count": null,
   "metadata": {},
   "outputs": [],
   "source": [
    "def cost_function_batch(df,w):\n",
    "    df['loss'] = df.apply(lambda x:max(0,1-x['label']*(x.iloc[ :785].dot(w))),axis  = 1)\n",
    "    return(df)"
   ]
  },
  {
   "cell_type": "code",
   "execution_count": null,
   "metadata": {},
   "outputs": [],
   "source": [
    "agar epoch ra baray stochastich 100 begirim baray rahat ta shadan mohasebe loss ra faghat baray zaraieb 10 mohasebeh mikonim"
   ]
  },
  {
   "cell_type": "code",
   "execution_count": null,
   "metadata": {},
   "outputs": [],
   "source": [
    "def svm_gradient_decsent(df2,w,epoch,landa,lear_rate):\n",
    "    import pandas as pd\n",
    "    import numpy as np\n",
    "    m = df2.shape[0]\n",
    "    n = df2.shape[1]\n",
    "    cost_functions_stochastic = [0]*epoch\n",
    "    X = [0]*n\n",
    "    new = pd.DataFrame(X,columns = ['new'])\n",
    "   # global list1\n",
    "    for j in range(epoch):\n",
    "        if i+1 == 2:\n",
    "            z[:,0:1] = w\n",
    "        if i+1 ==5:\n",
    "            z[:,1:2] = w\n",
    "        if i+1 ==10:\n",
    "            z[:,2:3] = w\n",
    "        if i+1 ==20:\n",
    "            z[:,3:4] = w\n",
    "        if i+1 ==25:\n",
    "            z[:,4:5] = w\n",
    "        if i+1 ==30:\n",
    "            z[:,5:6] = w\n",
    "        np.random.shuffle(df2)\n",
    "        for i in range(m):\n",
    "            if (1-df2[i,n-1]*((df2[i:i+1,0:n-1]).dot(w)) <= 0):\n",
    "                w = w-(landa/2)*w\n",
    "            else :\n",
    "                w = w-lear_rate*((landa/2)*w -(df2[i,n-1]*(df2[i:i+1,0:n-1].transpose())))\n",
    "#        cost_functions_stochastic[j]= stochastic_cost(w,landa,m,n,new,df)\n",
    "#    list1 = [w,cost_functions_stochastic]\n",
    "    return(w)"
   ]
  },
  {
   "cell_type": "code",
   "execution_count": null,
   "metadata": {},
   "outputs": [],
   "source": [
    "import numpy as np\n",
    "import pandas as pd\n",
    "def one_vs_all(df):\n",
    "    m = df.shape[0]\n",
    "    n = df.shape[1]\n",
    "    W = np.zeros([n-1,10])\n",
    "    for i in range(10):\n",
    "        w = np.random.normal(0,0.01,n-1)\n",
    "        w = pd.DataFrame(w)\n",
    "        w = w.to_numpy()\n",
    "        df2 = df.copy()\n",
    "        df2.label.loc[(df2.label == i)] = 1\n",
    "        df2.label.loc[(df2.label != i)] = -1\n",
    "        \n",
    "        df2 =df2.to_numpy()\n",
    "        W[0:,i:i+1] = svm_gradient_decsent(df2,w,5,10**-4,0.01)\n",
    "        print('a')\n",
    "    return(W)"
   ]
  },
  {
   "cell_type": "code",
   "execution_count": null,
   "metadata": {},
   "outputs": [],
   "source": [
    "W = one_vs_all(df)"
   ]
  },
  {
   "cell_type": "code",
   "execution_count": null,
   "metadata": {},
   "outputs": [],
   "source": []
  },
  {
   "cell_type": "code",
   "execution_count": null,
   "metadata": {},
   "outputs": [],
   "source": [
    "%store W\n",
    "%store df"
   ]
  },
  {
   "cell_type": "code",
   "execution_count": null,
   "metadata": {},
   "outputs": [],
   "source": [
    "%store -r W\n",
    "%store -r df"
   ]
  },
  {
   "cell_type": "code",
   "execution_count": null,
   "metadata": {},
   "outputs": [],
   "source": [
    "def error(df,W_stochastic):\n",
    "    import pandas as pd \n",
    "    import numpy as np\n",
    "    df2 = df.copy()\n",
    "    m = df2.shape[0]\n",
    "    n=df2.shape[1]\n",
    "    df3 = df2.iloc[:m,:n-1].dot(W_stochastic)    \n",
    "    df2['pridect'] = df3.idxmax(axis =1)\n",
    "    df2['accuracy'] = df2['label']- df2['pridect']\n",
    "    return(((df2['accuracy']==0).sum(axis = 0))/m)"
   ]
  },
  {
   "cell_type": "code",
   "execution_count": null,
   "metadata": {},
   "outputs": [],
   "source": [
    "error(df,W)"
   ]
  }
 ],
 "metadata": {
  "kernelspec": {
   "display_name": "Python 3",
   "language": "python",
   "name": "python3"
  },
  "language_info": {
   "codemirror_mode": {
    "name": "ipython",
    "version": 3
   },
   "file_extension": ".py",
   "mimetype": "text/x-python",
   "name": "python",
   "nbconvert_exporter": "python",
   "pygments_lexer": "ipython3",
   "version": "3.7.3"
  }
 },
 "nbformat": 4,
 "nbformat_minor": 2
}
