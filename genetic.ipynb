{
 "cells": [
  {
   "cell_type": "code",
   "execution_count": 1,
   "metadata": {},
   "outputs": [],
   "source": [
    "import pandas as pd\n",
    "import numpy as np"
   ]
  },
  {
   "cell_type": "code",
   "execution_count": 2,
   "metadata": {},
   "outputs": [
    {
     "name": "stdout",
     "output_type": "stream",
     "text": [
      "/home/amindo/Desktop\n"
     ]
    }
   ],
   "source": [
    "%cd '/home/amindo/Desktop'\n"
   ]
  },
  {
   "cell_type": "code",
   "execution_count": 3,
   "metadata": {},
   "outputs": [],
   "source": [
    "dictionary = pd.read_csv('dictionary.csv')\n",
    "word = pd.read_csv('coded_words.csv')"
   ]
  },
  {
   "cell_type": "code",
   "execution_count": 4,
   "metadata": {},
   "outputs": [],
   "source": [
    "import string\n",
    "string.ascii_lowercase\n",
    "'abcdefghijklmnopqrstuvwxyz'\n",
    "alphabet_list = list(string.ascii_lowercase)\n",
    "word1 = word.iloc[:,0].tolist()\n"
   ]
  },
  {
   "cell_type": "markdown",
   "metadata": {},
   "source": [
    "baray search ba sorat bishtar taghierati dar dictionarimon midahim(kalamati ke bedardemon \n",
    "mikhoran ro faghat negah midarim)"
   ]
  },
  {
   "cell_type": "code",
   "execution_count": 5,
   "metadata": {},
   "outputs": [
    {
     "name": "stderr",
     "output_type": "stream",
     "text": [
      "/home/amindo/anaconda3/lib/python3.7/site-packages/pandas/core/frame.py:3940: SettingWithCopyWarning: \n",
      "A value is trying to be set on a copy of a slice from a DataFrame\n",
      "\n",
      "See the caveats in the documentation: http://pandas.pydata.org/pandas-docs/stable/indexing.html#indexing-view-versus-copy\n",
      "  errors=errors)\n"
     ]
    }
   ],
   "source": [
    "new_dict = []\n",
    "for i in range(11):\n",
    "    new_dict.append([])\n",
    "dictionary['lenth'] = 0\n",
    "def aaa(x):\n",
    "    if type(x)==str:\n",
    "         return (int( len(x)))\n",
    "\n",
    "dictionary['lenth'] = dictionary.word.apply(aaa)  \n",
    "dictionary1 = dictionary[(dictionary['lenth'] .isin([4,5,6,7,8,9,10,11,12,13,15]))]\n",
    "dictionary1.reset_index(inplace = True)\n",
    "dictionary1\n",
    "dictionary1.drop('index',inplace = True,axis =1)"
   ]
  },
  {
   "cell_type": "markdown",
   "metadata": {},
   "source": [
    "baray search kardan ba sorat bishtar tabdil be yek matrix ba soton hay ba andaze kalameh mikonim"
   ]
  },
  {
   "cell_type": "code",
   "execution_count": 6,
   "metadata": {},
   "outputs": [
    {
     "name": "stderr",
     "output_type": "stream",
     "text": [
      "/home/amindo/anaconda3/lib/python3.7/site-packages/ipykernel_launcher.py:6: FutureWarning: get_value is deprecated and will be removed in a future release. Please use .at[] or .iat[] accessors instead\n",
      "  \n"
     ]
    },
    {
     "data": {
      "text/plain": [
       "[]"
      ]
     },
     "execution_count": 6,
     "metadata": {},
     "output_type": "execute_result"
    }
   ],
   "source": [
    "new_dict = []\n",
    "for i in range(16):\n",
    "    new_dict.append([])\n",
    "for i in range(312469):\n",
    "    a = int(dictionary1.iloc[i:i+1,1])\n",
    "    new_dict[a].append(dictionary1.get_value(i,'word'))\n",
    "new_dict.pop(0)\n",
    "new_dict.pop(0)\n",
    "new_dict.pop(0)\n",
    "new_dict.pop(0)\n",
    "new_dict.pop(10)    "
   ]
  },
  {
   "cell_type": "markdown",
   "metadata": {},
   "source": [
    "ebteda dar word bishtarin harf ro peyda mikonim va on ro ba e moadel migirim , chon ke dar dictionary oxford 11% horof e bodan va 8% horof a bodan(jaygah aval va dovom dar tedadd horof da dictionary oxford)"
   ]
  },
  {
   "cell_type": "code",
   "execution_count": 7,
   "metadata": {},
   "outputs": [],
   "source": [
    "dictionary = pd.DataFrame(new_dict).T\n",
    "columns1=[4,5,6,7,8,9,10,11,12,13,15]\n",
    "columns = {0:4,1:5,2:6,3:7,4:8,5:9,6:10,7:11,8:12,9:13,10:15}\n",
    "dictionary = dictionary.rename(columns = columns)\n"
   ]
  },
  {
   "cell_type": "markdown",
   "metadata": {},
   "source": [
    "tebgh natijeh bala e code shode ba o va a cod shode ba z (ehtemalan)\n"
   ]
  },
  {
   "cell_type": "code",
   "execution_count": 8,
   "metadata": {},
   "outputs": [],
   "source": [
    "def first_intial_population(population_size,alphabet_list):\n",
    "    from more_itertools import random_permutation\n",
    "    list1= [] \n",
    "    s = ''\n",
    "    s= s.join(alphabet_list)\n",
    "    for i in range(population_size):\n",
    "        k = ''.join(random_permutation(s))\n",
    "        list1.append(k)"
   ]
  },
  {
   "cell_type": "code",
   "execution_count": 10,
   "metadata": {},
   "outputs": [],
   "source": [
    "def fitting_function(key,words,dictionary,typo):\n",
    "        import string\n",
    "        string.ascii_lowercase\n",
    "        'abcdefghijklmnopqrstuvwxyz'\n",
    "        alphabet_list = list(string.ascii_lowercase)\n",
    "        string.ascii_lowercase\n",
    "        key\n",
    "        key_list = list(string.ascii_lowercase)\n",
    "        dict1 = dict(zip(key,alphabet_list))\n",
    "        list1 = []\n",
    "        c = 0\n",
    "        correct_list = [ ]\n",
    "        for word in words:\n",
    "            a = word\n",
    "            for i in word:   \n",
    "                a = a.replace(i,dict1[i])\n",
    "            len1 = len(a)\n",
    "            k = dictionary[dictionary[len1]==a]\n",
    "            if k.shape[0] > 0:\n",
    "                c+=1\n",
    "                if typo ==1:\n",
    "                    correct_list.append(dictionary[dictionary[len1]==a][len1].to_list()[0])\n",
    "        if  typo  ==1:\n",
    "            return(correct_list)\n",
    "        elif typo ==0 :\n",
    "            return(c)"
   ]
  },
  {
   "cell_type": "code",
   "execution_count": 11,
   "metadata": {},
   "outputs": [],
   "source": [
    "def new_key(key):\n",
    "    from more_itertools import random_permutation\n",
    "    new_words = fitting_function(key,word1,dictionary,1)\n",
    "    new_char = set()\n",
    "    alpha = 'abcdefghijklmnopqrstuvwxyz'\n",
    "    place = []\n",
    "    a = []\n",
    "    b =['1']*26\n",
    "    b = ''.join(b)\n",
    "    b_1 = set(b)\n",
    "    b_1 = list(b)\n",
    "    for word in new_words :\n",
    "        for char in word:\n",
    "            new_char.add(char)\n",
    "    for i in range(len(alpha)):\n",
    "        if alpha[i] in new_char:\n",
    "            place.append(i)\n",
    "    for i in place:\n",
    "        a.append(key[i])\n",
    "    a_1 = ''.join(a)\n",
    "    rando_alpha = set(alpha) - set(a_1)\n",
    "    rando_alpha = ''.join(rando_alpha)\n",
    "    for i in place:\n",
    "        b_1[i] = a[0]  \n",
    "        a.pop(0)\n",
    "    b = ''.join(b_1)\n",
    "    k = ''.join(random_permutation(rando_alpha))\n",
    "    for i in range(len(k)):\n",
    "        b = b.replace('1',k[i],1)\n",
    "    return(b)"
   ]
  },
  {
   "cell_type": "code",
   "execution_count": 12,
   "metadata": {},
   "outputs": [],
   "source": [
    "def Roulette_wheel(population):\n",
    "        import random\n",
    "        size = len(population)\n",
    "        list1 = []\n",
    "        c = 0\n",
    "        for i in population:\n",
    "            a = (fitting_function(i,word1,dictionary,0),i)\n",
    "            if a[0]==0:\n",
    "                a = (1/10,i)\n",
    "            c +=a[0]\n",
    "            list1.append(a)\n",
    "        list1.sort(reverse=True)\n",
    "        f = 0\n",
    "        list2 = []\n",
    "        for i in list1:\n",
    "            a = (i[0],i[1],(f,i[0]+f))\n",
    "            f = i[0]+f\n",
    "            list2.append(a)\n",
    "        list1\n",
    "        rando = []\n",
    "        for i in range(size):\n",
    "            rando.append(random.uniform(0,c))\n",
    "        selection_list = []\n",
    "        for i in rando:\n",
    "            for j in range(0,size):\n",
    "                if (i>list2[j][2][0]) and (i<=list2[j][2][1]):\n",
    "                    selection_list.append(j)\n",
    "        a = len(selection_list)\n",
    "        selection_list = list(dict.fromkeys(selection_list))\n",
    "        selection_list.sort(reverse=False)\n",
    "        final_list = []\n",
    "        if len(selection_list)%2 !=0:\n",
    "            selection_list.pop()     \n",
    "        for i in selection_list:\n",
    "                final_list.append(list2[i][1])\n",
    "        for i in range(len(final_list)):\n",
    "            population.pop()        \n",
    "        a =[final_list,population]\n",
    "        return(a)       "
   ]
  },
  {
   "cell_type": "code",
   "execution_count": 13,
   "metadata": {},
   "outputs": [],
   "source": [
    "def crossover(a,b):\n",
    "    import random\n",
    "    alphabet = 'abcdefghijklmnopqrstuvwxyz'\n",
    "    child =a[0:1]\n",
    "    for i in range(1,26):\n",
    "        if i%2!=0:\n",
    "            if (child.find(b[i])<0):\n",
    "                child =child+b[i]\n",
    "            else:\n",
    "                child = child+'1'\n",
    "        else:\n",
    "            if (child.find(a[i])<0):\n",
    "                child =child+a[i]\n",
    "            else:\n",
    "                child = child+'1'\n",
    "    for i in range(26):\n",
    "        if child[i].isdigit():\n",
    "            if (child.find(a[i])<0):\n",
    "                child =child.replace('1',a[i],1)\n",
    "            elif(child.find(b[i])<0):\n",
    "                child =child.replace('1',b[i],1)\n",
    "    random_char = list(set(alphabet)-set(child))\n",
    "    random.shuffle(random_char)\n",
    "    for i in range(26):\n",
    "        if child[i].isdigit():\n",
    "            child =  child.replace('1',random_char[-1],1)\n",
    "            random_char.pop()\n",
    "    return(child)"
   ]
  },
  {
   "cell_type": "code",
   "execution_count": 14,
   "metadata": {},
   "outputs": [],
   "source": [
    "def mutation(childs,mutation_rate):\n",
    "    def swap(s):\n",
    "        import random\n",
    "        strlst = list(s)\n",
    "        a = random.randint(0,25)\n",
    "        b = random.randint(0,25)\n",
    "        strlst[a], strlst[b] = strlst[b], strlst[a]\n",
    "        return(\"\".join(strlst))\n",
    "    import random\n",
    "    rate = int(26*len(childs)*mutation_rate)\n",
    "    random_list = []\n",
    "    for i in range(rate):\n",
    "        random_list.append(random.randint(0,26*len(childs)-1))\n",
    "    for i in random_list:\n",
    "        f = int(i/26)\n",
    "        childs[f] = swap(childs[f])\n",
    "    return(childs)    "
   ]
  },
  {
   "cell_type": "code",
   "execution_count": 15,
   "metadata": {},
   "outputs": [],
   "source": [
    "def g_a(intial_population,threshold):\n",
    "    childs = []\n",
    "    a = Roulette_wheel(intial_population)\n",
    "    if a!='None':\n",
    "        parents = a[0]\n",
    "        print(len(parents))\n",
    "        intial_population = a[1]\n",
    "        print(len(intial_population))\n",
    "    else:\n",
    "        return(print(shet))\n",
    "    print('max fit ',fitting_function(parents[0],word1,dictionary,0))\n",
    "    print('max fit 2',fitting_function(parents[1],word1,dictionary,0))\n",
    "    z = fitting_function(parents[0],word1,dictionary,0)\n",
    "    if (fitting_function(parents[0],word1,dictionary,0)>threshold):\n",
    "        s = [[parents[0],parents[1]],z]\n",
    "        return(s)\n",
    "    for i in range(0,len(parents),2):\n",
    "        childs.append(crossover(parents[i],parents[i+1]))\n",
    "        childs.append(crossover(parents[i+1],parents[i]))\n",
    "    childs = mutation(childs,0.15)\n",
    "    final_population = childs+intial_population\n",
    "    v = [final_population,z]\n",
    "    return(v)"
   ]
  },
  {
   "cell_type": "code",
   "execution_count": 16,
   "metadata": {},
   "outputs": [],
   "source": [
    "def new_intial_population(parent_0,parent_1,population_size,alphabet_list):\n",
    "    from more_itertools import random_permutation\n",
    "    random_population = int(population_size/4)\n",
    "    parent_0_population = int(population_size/2)\n",
    "    parent_1_population = population_size - random_population - parent_0_population \n",
    "    list1= [] \n",
    "    s = ''\n",
    "    s= s.join(alphabet_list)\n",
    "    for i in range(random_population):\n",
    "        k = ''.join(random_permutation(s))\n",
    "        list1.append(k)\n",
    "    for i in range(parent_0_population):\n",
    "        list1.append(new_key(parent_0))\n",
    "    for i in range(parent_1_population):\n",
    "        list1.append(new_key(parent_1))\n",
    "    return(list1)    \n",
    "        "
   ]
  },
  {
   "cell_type": "code",
   "execution_count": 25,
   "metadata": {},
   "outputs": [],
   "source": [
    "def first_initial_population(population_size,alphabet_list):\n",
    "    from more_itertools import random_permutation\n",
    "    list1 = []\n",
    "    s = ''\n",
    "    s= s.join(alphabet_list)\n",
    "    for i in range(population_size):\n",
    "        k = ''.join(random_permutation(s))\n",
    "        list1.append(k)\n",
    "    return(list1)    "
   ]
  },
  {
   "cell_type": "code",
   "execution_count": 36,
   "metadata": {},
   "outputs": [],
   "source": [
    "intial_population = first_initial_population(60,alphabet_list)\n"
   ]
  },
  {
   "cell_type": "code",
   "execution_count": null,
   "metadata": {},
   "outputs": [
    {
     "name": "stdout",
     "output_type": "stream",
     "text": [
      "32\n",
      "28\n",
      "max fit  4\n",
      "max fit 2 3\n",
      "30\n",
      "30\n",
      "max fit  5\n",
      "max fit 2 4\n",
      "30\n",
      "30\n",
      "max fit  5\n",
      "max fit 2 5\n",
      "28\n",
      "32\n",
      "max fit  5\n",
      "max fit 2 5\n",
      "34\n",
      "26\n",
      "max fit  5\n",
      "max fit 2 4\n",
      "30\n",
      "30\n",
      "max fit  4\n",
      "max fit 2 4\n",
      "32\n",
      "28\n",
      "max fit  5\n",
      "max fit 2 4\n",
      "32\n",
      "28\n",
      "max fit  5\n",
      "max fit 2 5\n",
      "32\n",
      "28\n",
      "max fit  6\n",
      "max fit 2 5\n",
      "phase1\n",
      "34\n",
      "28\n",
      "max fit  9\n",
      "max fit 2 8\n",
      "mrkwupfjtesvncadyogliqbhzx mrkhulfotaxyvcewpngjidbszq\n",
      "phase2\n",
      "36\n",
      "27\n",
      "max fit  9\n",
      "max fit 2 9\n",
      "2\n",
      "0\n",
      "max fit  9\n",
      "max fit 2 9\n",
      "phase3\n",
      "34\n",
      "32\n",
      "max fit  4\n",
      "max fit 2 3\n",
      "28\n",
      "38\n",
      "max fit  3\n",
      "max fit 2 3\n"
     ]
    }
   ],
   "source": [
    "while(True):\n",
    "    while(True):\n",
    "        a= g_a(intial_population,5)\n",
    "        intial_population = a[0]\n",
    "        if len(intial_population)<3:\n",
    "             break\n",
    "    intial_population = new_intial_population(intial_population[0],intial_population[1],62,alphabet_list)\n",
    "    print('phase1')\n",
    "    for i in range(6,8):\n",
    "        if a[1]>7:\n",
    "            break\n",
    "        while(True):\n",
    "            a= g_a(intial_population,i)\n",
    "            intial_population  = a[0]\n",
    "            if len(intial_population)<3:\n",
    "                break\n",
    "    print(intial_population[0],intial_population[1])\n",
    "    intial_population =new_intial_population(intial_population[0],intial_population[1],63,alphabet_list)\n",
    "    print('phase2')\n",
    "    for i in range(8,10):\n",
    "        if a[1]>9:\n",
    "            break\n",
    "        while(True):\n",
    "            a= g_a(intial_population,i)\n",
    "            intial_population = a[0]\n",
    "            if len(intial_population)<3:\n",
    "                break\n",
    "    intial_population =new_intial_population(intial_population[0],intial_population[1],66,alphabet_list)\n",
    "    print('phase3')\n",
    "    for i in range(10,14):\n",
    "        if a[1]>13:\n",
    "            break\n",
    "        while(True):\n",
    "            a= g_a(intial_population,i)\n",
    "            intial_population = a[0]\n",
    "            if len(intial_population)<3:\n",
    "                break\n",
    "    intial_population = new_intial_population(intial_population[0],intial_population[1],69,alphabet_list)\n",
    "    print('phase4')\n",
    "    for i in range(14,18):\n",
    "        if a[1]>17:\n",
    "            break\n",
    "        while(True):\n",
    "            a= g_a(intial_population,i)\n",
    "            intial_population = a[0]\n",
    "            if len(intial_population)<3:\n",
    "                break\n",
    "    intial_population = new_intial_population(intial_population[0],intial_population[1],75,alphabet_list)\n",
    "    print('phase5')\n",
    "    for i in range(18,25):\n",
    "        if a[1]>24:\n",
    "            break\n",
    "        while(True):\n",
    "            a = g_a(intial_population,i)\n",
    "            intial_population = a[0]\n",
    "            if len(intial_population)<3:\n",
    "                break\n",
    "    intial_population = new_intial_population(intial_population[0],intial_population[1],83,alphabet_list)\n",
    "    print('phase6')\n",
    "    for i in range(25,100):\n",
    "        if a[1]>99:\n",
    "            break\n",
    "        while(True):\n",
    "            a= g_a(intial_population,i)\n",
    "            intial_population = a[0]\n",
    "            if len(intial_population)<3:\n",
    "                break\n",
    "        intial_population = new_intial_population(intial_population[0],intial_population[1],70,alphabet_list)\n",
    "    print('phase6')"
   ]
  },
  {
   "cell_type": "code",
   "execution_count": 251,
   "metadata": {},
   "outputs": [],
   "source": [
    "a =[fitting_function(intial_population[18],word1,dictionary,1),fitting_function(intial_population[19],word1,dictionary,1)]"
   ]
  },
  {
   "cell_type": "code",
   "execution_count": null,
   "metadata": {},
   "outputs": [],
   "source": [
    "intial = new"
   ]
  }
 ],
 "metadata": {
  "kernelspec": {
   "display_name": "Python 3 (ipykernel)",
   "language": "python",
   "name": "python3"
  },
  "language_info": {
   "codemirror_mode": {
    "name": "ipython",
    "version": 3
   },
   "file_extension": ".py",
   "mimetype": "text/x-python",
   "name": "python",
   "nbconvert_exporter": "python",
   "pygments_lexer": "ipython3",
   "version": "3.8.10"
  }
 },
 "nbformat": 4,
 "nbformat_minor": 4
}
